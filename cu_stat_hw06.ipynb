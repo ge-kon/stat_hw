{
  "nbformat": 4,
  "nbformat_minor": 0,
  "metadata": {
    "colab": {
      "provenance": []
    },
    "kernelspec": {
      "name": "python3",
      "display_name": "Python 3"
    },
    "language_info": {
      "name": "python"
    }
  },
  "cells": [
    {
      "cell_type": "markdown",
      "source": [
        "# Задача 1. Покажи поведение выборки из распределения\n",
        "\n"
      ],
      "metadata": {
        "id": "DiaY2i5vOQA5"
      }
    },
    {
      "cell_type": "markdown",
      "source": [
        "Узнай, насколько точно статистика, найденная по выборке, приближает аналогичную характеристику в генеральной совокупности. Сделать это нужно для простой случайной выборки размера 1, 10, 500, для стратифицированной двумя разными способами случайной выборки размера 10 и 500; для среднего, 1-й квартили и максимума.\n",
        "\n",
        "На всех гистограммах в этой задаче отметь среднее в генеральной совокупности. Это нужно, чтобы по графику было видно, насколько точно среднее по выборке приближает среднее в генеральной совокупности.\n",
        "\n",
        "В твоём распоряжении датасет [time_mobile_app.csv](https://raw.githubusercontent.com/zalig/cu-datasets/main/06_time_mobile_app.csv). В нём есть информация обо всех пользователях мобильного приложения (генеральная совокупность).\n",
        "\n",
        "Для всех пунктов, где потребуется, количество выборок $N=10000$.\n",
        "\n",
        "T — время, проведённое клиентом в мобильном приложении, в часах.\n"
      ],
      "metadata": {
        "id": "D1Pizr-tAzOf"
      }
    },
    {
      "cell_type": "markdown",
      "source": [
        "##1. (**blue, баллы: 1.5**) Среди всех пользователей:\n",
        "- Найди среднее время, проводимое клиентами в мобильном приложении, и смещённое стандартное отклонение.\n",
        "- Найди распределение T и покажи результат на гистограмме.\n"
      ],
      "metadata": {
        "id": "HvXqF3CbAyi6"
      }
    },
    {
      "cell_type": "markdown",
      "source": [
        "**Решение**"
      ],
      "metadata": {
        "id": "owlJz9lrBABp"
      }
    },
    {
      "cell_type": "markdown",
      "source": [
        "##2. (**blue, баллы: 1.5**) Построй $N$ простых случайных выборок размера 1 клиент. Среди них:\n",
        "  - Найди среднее T и его смещённое стандартное отклонение.\n",
        "  - Найди распределение T и покажи результат на гистограмме.\n"
      ],
      "metadata": {
        "id": "73lpaHZsAxSR"
      }
    },
    {
      "cell_type": "markdown",
      "source": [
        "**Решение**"
      ],
      "metadata": {
        "id": "wrcGHPG3BATJ"
      }
    },
    {
      "cell_type": "markdown",
      "source": [
        "##3. (**blue, баллы: 1.5**) Построй $N$ простых случайных выборок размера 10 клиентов, посчитай по каждой такой выборке среднее $\\bar{T}$ и среди них:\n",
        "  - Найди среднее $\\bar{T}$ и его смещённое стандартное отклонение.\n",
        "  - Найди распределение $\\bar{T}$ и покажи результат на гистограмме."
      ],
      "metadata": {
        "id": "j1y4dnbZAwkW"
      }
    },
    {
      "cell_type": "markdown",
      "source": [
        "**Решение**"
      ],
      "metadata": {
        "id": "cFbFCq1zBAg4"
      }
    },
    {
      "cell_type": "markdown",
      "source": [
        "##4. (**blue, баллы: 1.5**) Повтори предыдущий пункт для выборки размера 500 клиентов.\n"
      ],
      "metadata": {
        "id": "g9kSX4bJAvBq"
      }
    },
    {
      "cell_type": "markdown",
      "source": [
        "**Решение**"
      ],
      "metadata": {
        "id": "K8UgNvUsBAxo"
      }
    },
    {
      "cell_type": "markdown",
      "source": [
        "## 5. (**blue, баллы: 1**) Объясни, что показывают (приблизительно или точно) распределения, изображенные на гистограммах в предыдущих пунктах.\n"
      ],
      "metadata": {
        "id": "DCvfrt0wAthO"
      }
    },
    {
      "cell_type": "markdown",
      "source": [
        "**Решение**"
      ],
      "metadata": {
        "id": "l_uJxg1nBA-4"
      }
    },
    {
      "cell_type": "markdown",
      "source": [
        "## 6. (**red, баллы: 1.5**) Сравни распределения, найденные в предыдущих пунктах, и прокомментируй.\n"
      ],
      "metadata": {
        "id": "05c2vlhdAsmg"
      }
    },
    {
      "cell_type": "markdown",
      "source": [
        "**Решение**"
      ],
      "metadata": {
        "id": "eGEOVB90BBPA"
      }
    },
    {
      "cell_type": "markdown",
      "source": [
        "\n",
        "##7. (**red, баллы: 1.5**) Сравни средние, найденные в предыдущих пунктах.\n"
      ],
      "metadata": {
        "id": "UVRDF0LwArps"
      }
    },
    {
      "cell_type": "markdown",
      "source": [
        "**Решение**"
      ],
      "metadata": {
        "id": "jlVnTtoUBBpB"
      }
    },
    {
      "cell_type": "markdown",
      "source": [
        "## 8. (**black, баллы: 2**) Построй $N$ выборок, стратифицированных по новизне модели мобильного устройства, посчитай по каждой такой выборке среднее $\\bar{T}$ и среди них:\n",
        "  - Найди среднее $\\bar{T}$ и его смещённое стандартное отклонение.\n",
        "  - Найди распределение $\\bar{T}$ и покажи результат на гистограмме.\n",
        "  - Сравни с предыдущим при размере выборки 10 клиентов и 500 клиентов.\n"
      ],
      "metadata": {
        "id": "xdLn65CoApy2"
      }
    },
    {
      "cell_type": "markdown",
      "source": [
        "**Решение**"
      ],
      "metadata": {
        "id": "v-u87GEPBB4A"
      }
    },
    {
      "cell_type": "markdown",
      "source": [
        "## 9. (**black, баллы: 2**) Построй $N$ выборок, стратифицированных по операционной системе мобильного устройства. Посчитай по каждой такой выборке среднее $\\bar{T}$ и среди них:\n",
        "  - Найди среднее $\\bar{T}$ и его смещённое стандартное отклонение.\n",
        "  - Найди распределение $\\bar{T}$ и покажи результат на гистограмме.\n",
        "  - Сравни с предыдущим при размере выборки 10 клиентов и 500 клиентов.\n"
      ],
      "metadata": {
        "id": "e5Le9kB1rt3r"
      }
    },
    {
      "cell_type": "markdown",
      "source": [
        "**Решение**"
      ],
      "metadata": {
        "id": "WZKedgkPrvB0"
      }
    },
    {
      "cell_type": "markdown",
      "source": [
        "##10. (**black, баллы: 2**) Создай таблицу со сводными результатами всех вышеприведённых сравнений.\n",
        "Таблица должна иметь следующие столбцы:\n",
        "  1. *type* — тип выборки (SRS / Strat_Model / Strat_OS).\n",
        "  2. *quantity* — количество наблюдений в одной выборке.\n",
        "  3. *mean* — среднее из средних N выборок.\n",
        "  4. *std* — стандартное отклонение средних в N выборках.\n",
        "\n",
        "Сделай общие по выводы по таблице."
      ],
      "metadata": {
        "id": "XCvRSJoU4qKS"
      }
    },
    {
      "cell_type": "markdown",
      "source": [
        "**Решение**"
      ],
      "metadata": {
        "id": "SJ_SvtvK4sgs"
      }
    },
    {
      "cell_type": "markdown",
      "source": [
        "##11. (**red, баллы: 1.5**) Посчитай первую квартиль по генеральной совокупности и построй гистограмму распределения первой квартили $Q1$, найденной по каждой из $N$ выборок размера 500. Сделай выводы.\n",
        "\n"
      ],
      "metadata": {
        "id": "Ry5KugfoAnuW"
      }
    },
    {
      "cell_type": "markdown",
      "source": [
        "**Решение**"
      ],
      "metadata": {
        "id": "riJqNVBQBCGK"
      }
    },
    {
      "cell_type": "markdown",
      "source": [
        "##12. (**black, баллы: 2**) Посчитай максимум по генеральной совокупности и построй гистограмму распределения максимума по выборкам размера 500. Сделай выводы.\n"
      ],
      "metadata": {
        "id": "rzI8txKGAmBk"
      }
    },
    {
      "cell_type": "markdown",
      "source": [
        "**Решение**"
      ],
      "metadata": {
        "id": "l3c4d7cBBCT5"
      }
    },
    {
      "cell_type": "markdown",
      "source": [
        "# Задача 2. Выводы\n"
      ],
      "metadata": {
        "id": "B4U5UpSWORMA"
      }
    },
    {
      "cell_type": "markdown",
      "source": [
        "\n",
        "В блоге планируется реклама нового продукта. Конверсия рекламы — доля купивших продукт после просмотра рекламы. Скорее верно или скорее неверно каждое из следущих утверждений?\n",
        "\n"
      ],
      "metadata": {
        "id": "xI47RuTFA9R-"
      }
    },
    {
      "cell_type": "markdown",
      "source": [
        "\n",
        "##1. (blue, баллы: 0.5) Точно найти конверсию рекламы среди всех подписчиков блога можно, только показав рекламу всем подписчикам."
      ],
      "metadata": {
        "id": "tKiNrxKDA8rp"
      }
    },
    {
      "cell_type": "markdown",
      "source": [
        "**Решение**"
      ],
      "metadata": {
        "id": "R5qu4-9wBCtZ"
      }
    },
    {
      "cell_type": "markdown",
      "source": [
        "\n",
        "##2. (blue, баллы: 0.5) Если показать рекламу части подписчиков в блоге и посчитать конверсию, она совпадёт с конверсией всего блога.\n"
      ],
      "metadata": {
        "id": "ZhGtlPDKA73C"
      }
    },
    {
      "cell_type": "markdown",
      "source": [
        "**Решение**"
      ],
      "metadata": {
        "id": "qyvjDGQQBC9B"
      }
    },
    {
      "cell_type": "markdown",
      "source": [
        "\n",
        "##3. (blue, баллы: 0.5) Конверсия в выборке приближает конверсию  в блоге. Способ получения выборки не влияет на качество приближения.\n",
        "\n"
      ],
      "metadata": {
        "id": "wg267-DWA7Ny"
      }
    },
    {
      "cell_type": "markdown",
      "source": [
        "**Решение**"
      ],
      "metadata": {
        "id": "nU3CyQVYBDGx"
      }
    },
    {
      "cell_type": "markdown",
      "source": [
        "\n",
        "##4. (blue, баллы: 0.5) Конверсия в выборке приближает конверсию в блоге. Но если выборку формировать случайно, то приближению будет меньше доверия, чем при неслучайном отборе подписчиков в выборку."
      ],
      "metadata": {
        "id": "jFQKY0O-A6Wu"
      }
    },
    {
      "cell_type": "markdown",
      "source": [
        "**Решение**"
      ],
      "metadata": {
        "id": "wrE6ljYEBDWB"
      }
    },
    {
      "cell_type": "markdown",
      "source": [
        "\n",
        "## 5. (blue, баллы: 0.5) При увеличении размера простой случайной выборки точность приближения растёт.\n",
        "\n"
      ],
      "metadata": {
        "id": "PaNhc9b0A21t"
      }
    },
    {
      "cell_type": "markdown",
      "source": [
        "**Решение**"
      ],
      "metadata": {
        "id": "O9zYiMZiBDg4"
      }
    },
    {
      "cell_type": "markdown",
      "source": [
        "\n",
        "##6. (red, баллы: 0.5) При увеличении размера выборки точность приближения растёт, независимо от способа получения выборки."
      ],
      "metadata": {
        "id": "VZA0bHPsA2Lv"
      }
    },
    {
      "cell_type": "markdown",
      "source": [
        "**Решение**"
      ],
      "metadata": {
        "id": "-hspQqtLBDxG"
      }
    },
    {
      "cell_type": "markdown",
      "source": [
        "\n",
        "##7. (black, баллы: 2) Точность приближения конверсии при использовании стратифицированной случайной выборки, как правило ниже, чем при простой случайной."
      ],
      "metadata": {
        "id": "YhQuIK5EA1i2"
      }
    },
    {
      "cell_type": "markdown",
      "source": [
        "**Решение**"
      ],
      "metadata": {
        "id": "znEk8Mz9BD-x"
      }
    },
    {
      "cell_type": "markdown",
      "source": [
        "#Кейсы «Ковчег» и «Бой без правил»"
      ],
      "metadata": {
        "id": "h3DR4evrBLf0"
      }
    },
    {
      "cell_type": "markdown",
      "source": [
        "\n",
        "##(blue)(red)(black) На соответствующем уровне реши кейс\n",
        "[«Ковчег»](https://raw.github.com/zalig/cu-datasets/main/case_5_arc.pdf) по датасету [ark.csv](https://raw.githubusercontent.com/zalig/cu-datasets/main/ark.csv).\n",
        "\n",
        "\n",
        "##(black) Реши ещё один из двух кейсов на чёрном уровне.\n",
        "- [«Бой без правил»](https://raw.github.com/zalig/cu-datasets/main/case_6_no_rules.pdf) по датасету [without_rules.csv](https://raw.githubusercontent.com/zalig/cu-datasets/main/without_rules.csv).\n",
        "- [«Лекарство»](https://raw.github.com/zalig/cu-datasets/main/case_4_medicine.pdf) по статье [Клиническая эффективность препарата](https://www.mediasphera.ru/issues/terapevticheskij-arkhiv/2015/1/downloads/ru/250040-366020150113).\n",
        "\n",
        "Кейсы не считаются частью домашнего задания и проверяется отдельно."
      ],
      "metadata": {
        "id": "V3AI0spAmVxp"
      }
    }
  ]
}