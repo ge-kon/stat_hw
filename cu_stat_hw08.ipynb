{
  "nbformat": 4,
  "nbformat_minor": 0,
  "metadata": {
    "colab": {
      "provenance": []
    },
    "kernelspec": {
      "name": "python3",
      "display_name": "Python 3"
    },
    "language_info": {
      "name": "python"
    }
  },
  "cells": [
    {
      "cell_type": "code",
      "source": [
        "#@title Исходники для корректного отображения условий задач (не меняйте содержимое)\n",
        "import scipy.stats as sps\n",
        "import matplotlib.pyplot as plt\n",
        "import pandas as pd\n",
        "import plotly.graph_objects as go\n",
        "import numpy as np\n",
        "from ipywidgets import interact, interactive, widgets\n",
        "from IPython.display import display, Math, Latex\n",
        "import plotly.io as pio\n",
        "pio.renderers.default = 'colab'\n",
        "from google.colab import output\n",
        "output.enable_custom_widget_manager()\n",
        "def show_pdf_with_area_below(pdf, xlim, ylim, interval, graph_size=[600,400]):\n",
        "    a_input = widgets.BoundedFloatText(value=interval[0], min=xlim[0],\n",
        "                                      max=xlim[1], description=r'a:',\n",
        "                                      disabled=False, layout={'width': '80px'},\n",
        "                                      style={'description_width': 'initial'})\n",
        "    b_input = widgets.BoundedFloatText(value=interval[1], min=xlim[0],\n",
        "                                      max=xlim[1], description='b:',\n",
        "                                      disabled=False, layout={'width': '80px'},\n",
        "                                      style={'description_width': 'initial'})\n",
        "    def label_prob():\n",
        "        display(Math(r'$P(a \\leqslant X \\leqslant b)\\quad$'))\n",
        "    label = widgets.interactive_output(label_prob,{})\n",
        "\n",
        "    fig = go.Figure()\n",
        "    fig.add_trace(go.Scatter(\n",
        "        x=[xlim[0], xlim[1]],\n",
        "        y=[0, 0],\n",
        "        fill='tozeroy',\n",
        "        fillcolor='rgba(0,0,255,0.3)',\n",
        "        line_color='rgba(0,0,255,0.3)',\n",
        "        name=\"\",\n",
        "        showlegend=False,\n",
        "        hoverinfo='skip'\n",
        "    ))\n",
        "    fig.add_trace(go.Scatter(\n",
        "        x=np.linspace(xlim[0], xlim[1], 1000), y=pdf(np.linspace(xlim[0], xlim[1], 1000)), mode='lines', name='pdf(x)',\n",
        "        line_color='rgba(100,100,100,1)',\n",
        "        showlegend=True\n",
        "    ))\n",
        "    fig.update_layout(\n",
        "        xaxis_range=[xlim[0], xlim[1]],\n",
        "        yaxis_range=[ylim[0], ylim[1]],\n",
        "        xaxis_title='x',\n",
        "        yaxis_title='pdf(x)',\n",
        "        width=graph_size[0],\n",
        "        height=graph_size[1],\n",
        "        plot_bgcolor='white',\n",
        "        modebar_remove=[\"autoscale\", \"zoom\", \"pan\", \"zoomin\", \"zoomout\", \"reset\", \"resetscale\",\"toimage\"],\n",
        "        hovermode=\"x\",\n",
        "        xaxis_fixedrange=True, yaxis_fixedrange=True,\n",
        "        margin=dict(t=40), showlegend=False,\n",
        "    )\n",
        "\n",
        "    def update_figure(a, b):\n",
        "        if (a < b):\n",
        "            fig.data[0].x = np.linspace(a, b, 1000)\n",
        "            fig.data[0].y = pdf(np.linspace(a, b, 1000))\n",
        "            fig.data[0].visible = True\n",
        "        else:\n",
        "            fig.data[0].x = np.linspace(a, b, 1000)\n",
        "            fig.data[0].y = pdf(np.linspace(a, b, 1000))\n",
        "            fig.data[0].visible = False\n",
        "        fig.update_layout(\n",
        "            title_text=rf'$\\text{{График плотности (pdf). Вероятность }}P({a}\\leqslant X \\leqslant {b})$',\n",
        "            title_x=0.15,\n",
        "            title_xref=\"container\",\n",
        "            # title_xanchor=\"center\"\n",
        "        )\n",
        "        fig.show(config= {'displaylogo': False, 'displayModeBar': False})\n",
        "\n",
        "    out = widgets.interactive_output(update_figure, {'a': a_input, 'b': b_input})\n",
        "    box_layout = widgets.Layout(display='flex', flex_flow='row', align_items='center')\n",
        "    return widgets.VBox([widgets.HBox([label, a_input, b_input], layout=box_layout), out])\n"
      ],
      "metadata": {
        "id": "u5ZriuRJKG2T",
        "cellView": "form"
      },
      "execution_count": null,
      "outputs": []
    },
    {
      "cell_type": "markdown",
      "source": [
        "# Задача 1. Проведи расчёты, используя биномиальную модель"
      ],
      "metadata": {
        "id": "eVg4PWt3KG2U"
      }
    },
    {
      "cell_type": "markdown",
      "source": [
        "Оператор колл-центра делает за день 12 продающих звонков. Вероятность продажи во время каждого звонка составляет 40%. Успех или неудача во время одного звонка не влияет на результат других звонков.\n",
        "\n",
        "Пусть $X$ — число продаж у оператора за день."
      ],
      "metadata": {
        "id": "9gA3gAksKG2V"
      }
    },
    {
      "cell_type": "markdown",
      "source": [
        "##1. (blue, баллы: 0.3) С какой вероятностью не будет ни одной продажи? Ровно 2 продажи? Ровно 8 продаж? Какая функция была использована: PMF, CDF, PPF?\n",
        "\n"
      ],
      "metadata": {
        "id": "zvcYAlsmKG2W"
      }
    },
    {
      "cell_type": "markdown",
      "source": [
        "**Решение**"
      ],
      "metadata": {
        "id": "ennBNYBbKjdQ"
      }
    },
    {
      "cell_type": "markdown",
      "source": [
        "##2. (blue, баллы: 0.3) С какой вероятностью будет не больше 2 продаж? Не больше 8 продаж? От 5 до 10 продаж включительно? Какая функция была использована: PMF, CDF, PPF?\n",
        "\n"
      ],
      "metadata": {
        "id": "1pGcbjc5KYXU"
      }
    },
    {
      "cell_type": "markdown",
      "source": [
        "**Решение**"
      ],
      "metadata": {
        "id": "oyj-ZYH1KjoI"
      }
    },
    {
      "cell_type": "markdown",
      "source": [
        "##3. (blue, баллы: 0.3) Найди такое $k$, что с вероятностью 70% будет не больше, чем $k$ продаж. Какая функция была использована: PMF, CDF, PPF?\n",
        "\n"
      ],
      "metadata": {
        "id": "zXhrKSEWKZFA"
      }
    },
    {
      "cell_type": "markdown",
      "source": [
        "**Решение**"
      ],
      "metadata": {
        "id": "v5RJy6SPKjyw"
      }
    },
    {
      "cell_type": "markdown",
      "source": [
        "##4. (blue, баллы: 0.3) Найди такое $k$, что с вероятностью 50% будет не меньше, чем $k$ продаж. Какая функция была использована: PMF, CDF, PPF?\n",
        "\n"
      ],
      "metadata": {
        "id": "FF-wARC7Kerv"
      }
    },
    {
      "cell_type": "markdown",
      "source": [
        "**Решение**"
      ],
      "metadata": {
        "id": "2YskhDgfKkEX"
      }
    },
    {
      "cell_type": "markdown",
      "source": [
        "##5. (blue, баллы: 0.4) Найди среднее число продаж.\n",
        "\n"
      ],
      "metadata": {
        "id": "M3sZltMiKfbU"
      }
    },
    {
      "cell_type": "markdown",
      "source": [
        "**Решение**"
      ],
      "metadata": {
        "id": "_y7N8LJ-KkVI"
      }
    },
    {
      "cell_type": "markdown",
      "source": [
        "##6. (blue, баллы: 0.4) Найди дисперсию числа продаж.\n",
        "\n"
      ],
      "metadata": {
        "id": "e7XzSGHfKgEM"
      }
    },
    {
      "cell_type": "markdown",
      "source": [
        "**Решение**"
      ],
      "metadata": {
        "id": "Ty2zRL5QKklv"
      }
    },
    {
      "cell_type": "markdown",
      "source": [
        "##7. (blue, баллы: 0.3) Найди вероятность того, что за день будет не более 50% продаж.\n",
        "\n"
      ],
      "metadata": {
        "id": "jBWD9a-0KgvE"
      }
    },
    {
      "cell_type": "markdown",
      "source": [
        "**Решение**"
      ],
      "metadata": {
        "id": "CV0poMbQKkx8"
      }
    },
    {
      "cell_type": "markdown",
      "source": [
        "##8. (blue, баллы: 0.3) Найди вероятность того, что за день будет не более 70% продаж."
      ],
      "metadata": {
        "id": "y-_l5SE1KhTs"
      }
    },
    {
      "cell_type": "markdown",
      "source": [
        "**Решение**"
      ],
      "metadata": {
        "id": "Rk8H_y5-KG2X"
      }
    },
    {
      "cell_type": "markdown",
      "source": [
        "# Задача 2. Переведи задачу в модель биномиального распределения"
      ],
      "metadata": {
        "id": "kYnhWji0KG2X"
      }
    },
    {
      "cell_type": "markdown",
      "source": [
        "Целиком сюжет можно прочитать в условии кейса [«Проходной порог»](https://raw.githubusercontent.com/zalig/cu-datasets/main/case_7_passing_score.pdf).\n",
        "\n",
        "Компания проводит отбор сотрудников. Вакансия требует внимательности.\n",
        "\n",
        "В типовой рабочей задаче вероятность ошибиться в 2% приемлема, кандидат с такой внимательностью считается сильным.\n",
        "\n",
        "Вероятность ошибиться в 10% для компании недопустимо высока.\n",
        "\n",
        "Иначе говоря, сильный кандидат верно решает задачу с вероятностью 98%, а слабый с вероятностью 90%.\n",
        "\n",
        "На первом этапе отбора нужно пройти тест из $n$ вопросов. В следующий этап отбора проходит тот, кто получил не меньше порогового значения $k$ правильных ответов.\n",
        "\n",
        "Считается, что задачи в тесте не связаны друг с другом, а ошибки кандидата в них независимы."
      ],
      "metadata": {
        "id": "ETYoBLAKzJj2"
      }
    },
    {
      "cell_type": "markdown",
      "source": [
        "##1. (blue, баллы: 0.3) Для теста из $n=20$ вопросов найди вероятность того, что слабый кандидат ответит правильно ровно на 18 вопросов."
      ],
      "metadata": {
        "id": "Sma-EcrrzJj2"
      }
    },
    {
      "cell_type": "markdown",
      "source": [
        "**Решение**"
      ],
      "metadata": {
        "id": "uyZwC_k_KG2a"
      }
    },
    {
      "cell_type": "markdown",
      "source": [
        "##2. (blue, баллы: 0.3) Для теста из $n=20$ вопросов и порога $k=18$ правильных ответов найди вероятность того, что слабый кандидат пройдёт в следующий этап, то есть правильно решит $k$ или больше задач."
      ],
      "metadata": {
        "id": "gO9YLl2IKG2a"
      }
    },
    {
      "cell_type": "markdown",
      "source": [
        "**Решение**"
      ],
      "metadata": {
        "id": "f9ht6JMrKG2b"
      }
    },
    {
      "cell_type": "markdown",
      "source": [
        "##3. (blue, баллы: 0.5) Для теста из $n=20$ вопросов и всех возможных пороговых значений $k=0,1,2,\\dots,20$ найди вероятности для каждого кандидата пройти в следующий этап. Иначе говоря, заполни таблицу целиком:"
      ],
      "metadata": {
        "id": "DQzQkSj3KG2b"
      }
    },
    {
      "cell_type": "code",
      "source": [
        "data = []\n",
        "data.append({'k': 0, 'strong_pass_prob': 1.00, 'weak_pass_prob': 1.00})\n",
        "df = pd.DataFrame(data)\n",
        "df_title = \"Вероятность преодолеть порог k задач\\nдля сильного и слабого кандидата\"\n",
        "df.style.hide(axis=\"index\").set_caption(df_title)"
      ],
      "metadata": {
        "colab": {
          "base_uri": "https://localhost:8080/",
          "height": 115
        },
        "outputId": "c0810f65-6985-46a0-d3fb-83ceefa51874",
        "id": "Ky5pikXEKG2c"
      },
      "execution_count": null,
      "outputs": [
        {
          "output_type": "execute_result",
          "data": {
            "text/plain": [
              "<pandas.io.formats.style.Styler at 0x7b81141cbbe0>"
            ],
            "text/html": [
              "<style type=\"text/css\">\n",
              "</style>\n",
              "<table id=\"T_6aa10\" class=\"dataframe\">\n",
              "  <caption>Вероятность преодолеть порог k задач\n",
              "для сильного и слабого кандидата</caption>\n",
              "  <thead>\n",
              "    <tr>\n",
              "      <th id=\"T_6aa10_level0_col0\" class=\"col_heading level0 col0\" >k</th>\n",
              "      <th id=\"T_6aa10_level0_col1\" class=\"col_heading level0 col1\" >strong_pass_prob</th>\n",
              "      <th id=\"T_6aa10_level0_col2\" class=\"col_heading level0 col2\" >weak_pass_prob</th>\n",
              "    </tr>\n",
              "  </thead>\n",
              "  <tbody>\n",
              "    <tr>\n",
              "      <td id=\"T_6aa10_row0_col0\" class=\"data row0 col0\" >0</td>\n",
              "      <td id=\"T_6aa10_row0_col1\" class=\"data row0 col1\" >1.000000</td>\n",
              "      <td id=\"T_6aa10_row0_col2\" class=\"data row0 col2\" >1.000000</td>\n",
              "    </tr>\n",
              "  </tbody>\n",
              "</table>\n"
            ]
          },
          "metadata": {},
          "execution_count": 4
        }
      ]
    },
    {
      "cell_type": "markdown",
      "source": [
        "**Решение**"
      ],
      "metadata": {
        "id": "wG16N8ejKG2d"
      }
    },
    {
      "cell_type": "markdown",
      "source": [
        "##4. (blue, баллы: 0.5) Построй линейный график, показывающий, как вероятность пройти в следующий этап зависит от величины порога $k$ для сильного и для слабого кандидата (на одном графике)."
      ],
      "metadata": {
        "id": "12VrqLIBKG2d"
      }
    },
    {
      "cell_type": "markdown",
      "source": [
        "**Решение**"
      ],
      "metadata": {
        "id": "uG3aBOnVKG2d"
      }
    },
    {
      "cell_type": "markdown",
      "source": [
        "##5. (blue, баллы: 0.6) Опираясь на график из предыдущего пункта, выбери разумный порог и обоснуй свой выбор. Правильных решений тут много. Обязательное требование к решению только одно: использовать график. Можно делать дополнительные допущения, их нужно явно написать."
      ],
      "metadata": {
        "id": "TvnNbQ1XKG2e"
      }
    },
    {
      "cell_type": "markdown",
      "source": [
        "**Решение**"
      ],
      "metadata": {
        "id": "7HXydpGMKG2f"
      }
    },
    {
      "cell_type": "markdown",
      "source": [
        "##6. (blue, баллы: 0.6) Найди такой максимальный порог $k$, чтобы сильный кандидат проходил в следующий этап с вероятностью больше 80%."
      ],
      "metadata": {
        "id": "ofecW416KG2f"
      }
    },
    {
      "cell_type": "markdown",
      "source": [
        "**Решение**"
      ],
      "metadata": {
        "id": "LL0xPFRcKG2f"
      }
    },
    {
      "cell_type": "markdown",
      "source": [
        "##7. (red, баллы: 0.5) Теперь для каждого $n=1,2,3,\\dots,100$ найди такой наибольший порог $k$, чтобы сильный кандидат проходил в следующий этап с вероятностью больше 80%. Укажи для данного порога шансы на прохождение этапа сильным и слабым кандидатом. Иными словами, заполни табличку ниже для всех $n$ от $1$ до $100$."
      ],
      "metadata": {
        "id": "1kwAeCOpKG2g"
      }
    },
    {
      "cell_type": "code",
      "source": [
        "data = []\n",
        "data.append({'n': 1, 'k': 1, 'strong_pass_prob': 0.98, 'weak_pass_prob': 0.9})\n",
        "df = pd.DataFrame(data)\n",
        "df_title = \"Максимальный порог k\\nв тесте из n задач\\nпри котором шансы сильного кандидата пройти\\nвыше 80%\"\n",
        "df.style.hide(axis=\"index\").set_caption(df_title)"
      ],
      "metadata": {
        "colab": {
          "base_uri": "https://localhost:8080/",
          "height": 133
        },
        "outputId": "b93b05c6-1c0e-46e5-ec37-1c5760456f51",
        "id": "Mfc0vgEEKG2g"
      },
      "execution_count": null,
      "outputs": [
        {
          "output_type": "execute_result",
          "data": {
            "text/plain": [
              "<pandas.io.formats.style.Styler at 0x7b811441e7a0>"
            ],
            "text/html": [
              "<style type=\"text/css\">\n",
              "</style>\n",
              "<table id=\"T_fedad\" class=\"dataframe\">\n",
              "  <caption>Максимальный порог k\n",
              "в тесте из n задач\n",
              "при котором шансы сильного кандидата пройти\n",
              "выше 80%</caption>\n",
              "  <thead>\n",
              "    <tr>\n",
              "      <th id=\"T_fedad_level0_col0\" class=\"col_heading level0 col0\" >n</th>\n",
              "      <th id=\"T_fedad_level0_col1\" class=\"col_heading level0 col1\" >k</th>\n",
              "      <th id=\"T_fedad_level0_col2\" class=\"col_heading level0 col2\" >strong_pass_prob</th>\n",
              "      <th id=\"T_fedad_level0_col3\" class=\"col_heading level0 col3\" >weak_pass_prob</th>\n",
              "    </tr>\n",
              "  </thead>\n",
              "  <tbody>\n",
              "    <tr>\n",
              "      <td id=\"T_fedad_row0_col0\" class=\"data row0 col0\" >1</td>\n",
              "      <td id=\"T_fedad_row0_col1\" class=\"data row0 col1\" >1</td>\n",
              "      <td id=\"T_fedad_row0_col2\" class=\"data row0 col2\" >0.980000</td>\n",
              "      <td id=\"T_fedad_row0_col3\" class=\"data row0 col3\" >0.900000</td>\n",
              "    </tr>\n",
              "  </tbody>\n",
              "</table>\n"
            ]
          },
          "metadata": {},
          "execution_count": 5
        }
      ]
    },
    {
      "cell_type": "markdown",
      "source": [
        "**Решение**"
      ],
      "metadata": {
        "id": "EWng9cm5KG2h"
      }
    },
    {
      "cell_type": "markdown",
      "source": [
        "## 8. (red, баллы: 0.5) Построй линейный график, показывающий, как с ростом числа вопросов меняется вероятность пройти тест для слабого и сильного кандидатов, если выбирать порог по принципу из предыдущего пункта."
      ],
      "metadata": {
        "id": "ZwwIivRhKG2h"
      }
    },
    {
      "cell_type": "markdown",
      "source": [
        "**Решение**"
      ],
      "metadata": {
        "id": "aVlH0ZPoKG2h"
      }
    },
    {
      "cell_type": "markdown",
      "source": [
        "##9. (red, баллы: 0.5) Опираясь на график выше или проведя дополнительные расчеты, найди наименьшее число наблюдений $n$, при котором отсев слабых кандидатов составит 70%, то есть вероятность для слабого кандидата пройти в следующий этап будет не больше 30%."
      ],
      "metadata": {
        "id": "wilsidMHKG2i"
      }
    },
    {
      "cell_type": "markdown",
      "source": [
        "**Решение**"
      ],
      "metadata": {
        "id": "7QyKBqIwKG2i"
      }
    },
    {
      "cell_type": "markdown",
      "source": [
        "##10. (black, баллы: 1) Специалисты по связям с общественностью предложили упростить задания на этапах отбора. Теперь задачи таковы, что сильный кандидат справляется с задачей с вероятностью 99%, а слабый — 95%. Как изменится ответ на предыдущие два пункта с учётом поменявшихся вероятностей.\n",
        "\n"
      ],
      "metadata": {
        "id": "0TREyBYtKG2i"
      }
    },
    {
      "cell_type": "markdown",
      "source": [
        "**Решение**"
      ],
      "metadata": {
        "id": "lotQZhOtKG2j"
      }
    },
    {
      "cell_type": "markdown",
      "source": [
        "##11. (black, баллы: 1) Специалисты по найму персонала предложили сделать отбор более сложным. Теперь задачи таковы, что сильный кандидат справляется с задачей с вероятностью 70%, а слабый — 20%. Как изменится ответ с учётом поменявшихся вероятностей?\n",
        "\n"
      ],
      "metadata": {
        "id": "Kqy0-2oPKG2j"
      }
    },
    {
      "cell_type": "markdown",
      "source": [
        "**Решение**"
      ],
      "metadata": {
        "id": "7OvD4c7OKG2j"
      }
    },
    {
      "cell_type": "markdown",
      "source": [
        "##12. (black, баллы: 2) Сведи $6$ графиков в один. На нём для всех трёх уровней сложности теста («рабочие задачи», «упрощённые задачи» и «усложнённые задачи») и обоих типов кандидатов («сильный», «слабый») должна быть видна вероятность пройти в следующий этап в зависимости от числа задач в тесте, при условии, что порог выбирается максимальным, но позволяющим сильному кандидату проходить с вероятностью больше $70\\%$."
      ],
      "metadata": {
        "id": "I3m04T6vKG2j"
      }
    },
    {
      "cell_type": "markdown",
      "source": [
        "**Решение**"
      ],
      "metadata": {
        "id": "tLGJRuCEzJj6"
      }
    },
    {
      "cell_type": "markdown",
      "source": [
        "# Задача 3. Найди вероятности с помощью плотности в непрерывной модели\n",
        "\n",
        "\n"
      ],
      "metadata": {
        "id": "gqPD9p89KG2k"
      }
    },
    {
      "cell_type": "markdown",
      "source": [
        "В этой задаче нужно научиться работать с вероятностной моделью непрерывного типа, заданной с помощью функции плотности (pdf).\n",
        "\n",
        "Ниже представлен график плотности (pdf) распределения случайной величины $X$. На нём отображается площадь на интервале между $a$ и $b$. График перерисовывается при изменении границ интервала."
      ],
      "metadata": {
        "id": "kC7NT9Es0Gig"
      }
    },
    {
      "cell_type": "code",
      "source": [
        "# эту ячейку нужно запустить 2 раза подряд.\n",
        "# Появится интерактивный график.\n",
        "def pdf1(x):\n",
        "    return np.piecewise(x, [      x < 2,       x > 10,  (2 <= x) & (x < 6),       (6 <= x) & (x <= 8)],\n",
        "                           [          0,            0,                 0.1,                       0.3])\n",
        "show_pdf_with_area_below(pdf=pdf1, xlim=[0,10], ylim=[0,0.31], interval=[4.4,7.7], graph_size=[600,400])"
      ],
      "metadata": {
        "colab": {
          "base_uri": "https://localhost:8080/",
          "height": 449,
          "referenced_widgets": [
            "3d83c44e5ead4df5b50a759470c218aa",
            "e06b7e9660304566af50109e1e80d616",
            "44b7ed833305422cb1c3d344cbae4ebb",
            "eaf04fc68cc145e99b14c448e27deb2d",
            "6b07ed16589846fbacd88886821cc5a5",
            "5eb5cc9a541849e5ac858a1f9b08f908",
            "6d684ad935f94c5488cb378d0f045cd0",
            "f55068fd190b4282bd3383295eb6f996",
            "70554b5abe3b464595d96c51ef9f467a",
            "0a20c00166434c80b6c3ca245a882273",
            "35df426c3d454b5a8e5767f29bee47fb",
            "10419f845e8040ee9ff80e181574d5e2",
            "b00c47b2171f46b5bcc4433f55c3b2ce",
            "de60e2b17e9044a984e14a25fc612bd1"
          ]
        },
        "outputId": "1df88124-9af4-419d-9277-7a340ca2212e",
        "id": "TXpJQXuY0Gig"
      },
      "execution_count": null,
      "outputs": [
        {
          "output_type": "display_data",
          "data": {
            "text/plain": [
              "VBox(children=(HBox(children=(Output(), BoundedFloatText(value=4.4, description='a:', layout=Layout(width='80p…"
            ],
            "application/vnd.jupyter.widget-view+json": {
              "version_major": 2,
              "version_minor": 0,
              "model_id": "3d83c44e5ead4df5b50a759470c218aa"
            }
          },
          "metadata": {
            "application/vnd.jupyter.widget-view+json": {
              "colab": {
                "custom_widget_manager": {
                  "url": "https://ssl.gstatic.com/colaboratory-static/widgets/colab-cdn-widget-manager/2b70e893a8ba7c0f/manager.min.js"
                }
              }
            }
          }
        }
      ]
    },
    {
      "cell_type": "markdown",
      "source": [
        "##1. (blue, баллы: 0.3) Проверь, что функция на графике действительно подходит, чтобы задать вероятностную модель непрерывной случайной величины, и может быть использована в качестве плотности (pdf)."
      ],
      "metadata": {
        "id": "pIdtG_IJ0Gig"
      }
    },
    {
      "cell_type": "markdown",
      "source": [
        "**Решение**"
      ],
      "metadata": {
        "id": "EipuhvLaKG2l"
      }
    },
    {
      "cell_type": "markdown",
      "source": [
        "##2. (blue, баллы: 0.3) С помощью вероятностной модели найди $P(3.9 \\leqslant X \\leqslant 4.1)$.\n",
        "\n",
        "\n",
        "\n"
      ],
      "metadata": {
        "id": "yxCQylKE0Gih"
      }
    },
    {
      "cell_type": "markdown",
      "source": [
        "**Решение**"
      ],
      "metadata": {
        "id": "dQhZrESAKG2m"
      }
    },
    {
      "cell_type": "markdown",
      "source": [
        "##3. (blue, баллы: 0.3) С помощью вероятностной модели найди $P(3.999 \\leqslant X \\leqslant 4.001)$.\n"
      ],
      "metadata": {
        "id": "EIhOaZ8tKG2m"
      }
    },
    {
      "cell_type": "markdown",
      "source": [
        "**Решение**"
      ],
      "metadata": {
        "id": "x_fnchuYKG2m"
      }
    },
    {
      "cell_type": "markdown",
      "source": [
        "##4. (blue, баллы: 0.3) С помощью вероятностной модели найди $P(X = 4)$.\n"
      ],
      "metadata": {
        "id": "_jranZZdKG2m"
      }
    },
    {
      "cell_type": "markdown",
      "source": [
        "**Решение**"
      ],
      "metadata": {
        "id": "xOv27giYKG2n"
      }
    },
    {
      "cell_type": "markdown",
      "source": [
        "##5. (blue, баллы: 0.3) С помощью вероятностной модели найди $P(X \\leqslant 7)$.\n",
        "\n"
      ],
      "metadata": {
        "id": "i8ICFrVrKG2n"
      }
    },
    {
      "cell_type": "markdown",
      "source": [
        "**Решение**"
      ],
      "metadata": {
        "id": "0JcmVZevKG2n"
      }
    },
    {
      "cell_type": "markdown",
      "source": [
        "##6. (blue, баллы: 0.3) С помощью вероятностной модели найди $P(X < 7)$.\n",
        "\n"
      ],
      "metadata": {
        "id": "nkL9BEfOKG2n"
      }
    },
    {
      "cell_type": "markdown",
      "source": [
        "**Решение**"
      ],
      "metadata": {
        "id": "xnEJDII8KG2o"
      }
    },
    {
      "cell_type": "markdown",
      "source": [
        "##7. (blue, баллы: 0.3) С помощью вероятностной модели найди $P(4 < X < 7)$."
      ],
      "metadata": {
        "id": "xaKu6aIGKG2o"
      }
    },
    {
      "cell_type": "markdown",
      "source": [
        "**Решение**"
      ],
      "metadata": {
        "id": "jWQii8SaKG2o"
      }
    },
    {
      "cell_type": "markdown",
      "source": [
        "##8. (blue, баллы: 0.4) Прокомментируй, верно ли, что плотность равна вероятности? Если нет, то как используется плотность для расчёта вероятности?"
      ],
      "metadata": {
        "id": "NMgJd9r4KG2p"
      }
    },
    {
      "cell_type": "markdown",
      "source": [
        "**Решение**"
      ],
      "metadata": {
        "id": "BqLft9mdKG2p"
      }
    },
    {
      "cell_type": "markdown",
      "source": [
        "# Задача 4. Найди вероятности с помощью кумулятивной функции распределения\n"
      ],
      "metadata": {
        "id": "o5DcVDHKzJj7"
      }
    },
    {
      "cell_type": "markdown",
      "source": [
        "В этой задаче нужно научиться работать с вероятностной моделью непрерывного типа, заданной с помощью кумулятивной функции распределения (cdf).\n",
        "\n",
        "Случайная величина $Y$ показывает время в годах до поломки транзистора TSJ485-Ki8. Она описывается непрерывной вероятностной моделью с заданной ниже кумулятивной функцией распределения (cdf)."
      ],
      "metadata": {
        "id": "LfCfP8liKG2p"
      }
    },
    {
      "cell_type": "code",
      "source": [
        "def cdf1(y):\n",
        "    return np.piecewise(np.float64(y), [     y <= 0,                        y > 0],\n",
        "                                       [lambda y: 0,  lambda y: 1 - (1 + 0.01*y**2)**(-4)])\n",
        "print(cdf1(-3))\n",
        "#print(cdf1(3))\n",
        "#print(cdf1(10.5584))"
      ],
      "metadata": {
        "colab": {
          "base_uri": "https://localhost:8080/"
        },
        "outputId": "addeeb80-d5ea-4552-eccc-bd312c5c85c6",
        "id": "F_Nu818WKG2p"
      },
      "execution_count": null,
      "outputs": [
        {
          "output_type": "stream",
          "name": "stdout",
          "text": [
            "0.0\n",
            "0.9500052559653593\n"
          ]
        }
      ]
    },
    {
      "cell_type": "markdown",
      "source": [
        "##1. (blue, баллы: 0.3) Легко видеть выше, что cdf1(-3) равно нулю. Проинтерпретируй это значение, объяснив, что оно говорит о транзисторе.\n",
        "\n"
      ],
      "metadata": {
        "id": "MdHn76wbzJj8"
      }
    },
    {
      "cell_type": "markdown",
      "source": [
        "**Решение**"
      ],
      "metadata": {
        "id": "K2OA5PUbKvsb"
      }
    },
    {
      "cell_type": "markdown",
      "source": [
        "##2. (blue, баллы: 0.3) Найди и проинтерпретируй cdf1(1).\n",
        "\n"
      ],
      "metadata": {
        "id": "R3t4LyLrKoxD"
      }
    },
    {
      "cell_type": "markdown",
      "source": [
        "**Решение**"
      ],
      "metadata": {
        "id": "AXu8lCCbKv4u"
      }
    },
    {
      "cell_type": "markdown",
      "source": [
        "##3. (blue, баллы: 0.3) С какой вероятностью транзистор сломается в первые 10 лет работы (прослужит меньше 10 лет)?\n",
        "\n"
      ],
      "metadata": {
        "id": "nsPKPfU8Kpgb"
      }
    },
    {
      "cell_type": "markdown",
      "source": [
        "**Решение**"
      ],
      "metadata": {
        "id": "EWPpTrI_KwI_"
      }
    },
    {
      "cell_type": "markdown",
      "source": [
        "##4. (blue, баллы: 0.3) С какой вероятностью транзистор сломается в течение второго года службы, то есть прослужит от 1 года до 2?\n",
        "\n"
      ],
      "metadata": {
        "id": "AXhLfl75KqJS"
      }
    },
    {
      "cell_type": "markdown",
      "source": [
        "**Решение**"
      ],
      "metadata": {
        "id": "26bbqhbbKwTk"
      }
    },
    {
      "cell_type": "markdown",
      "source": [
        "##5. (blue, баллы: 0.3) С какой вероятностью транзистор прослужит больше 30 лет?\n",
        "\n",
        "\n"
      ],
      "metadata": {
        "id": "Rnt2pq_QKqxr"
      }
    },
    {
      "cell_type": "markdown",
      "source": [
        "**Решение**"
      ],
      "metadata": {
        "id": "NZ7rdjUhKwib"
      }
    },
    {
      "cell_type": "markdown",
      "source": [
        "##6. (blue, баллы: 0.3) Найди cdf(10.5584). Приблизительно найди значение обратной функции распределения ppf(0.95) и проинтерпретируй его.\n",
        "\n"
      ],
      "metadata": {
        "id": "8unjj9xKKrdj"
      }
    },
    {
      "cell_type": "markdown",
      "source": [
        "**Решение**"
      ],
      "metadata": {
        "id": "pZ6TNxOLKwrb"
      }
    },
    {
      "cell_type": "markdown",
      "source": [
        "##7. (blue, баллы: 0.3) Приблизительно найди значение обратной функции распределения ppf(0.1) и проинтерпретируй его.\n"
      ],
      "metadata": {
        "id": "vG0Gp9ZBKsHK"
      }
    },
    {
      "cell_type": "markdown",
      "source": [
        "**Решение**"
      ],
      "metadata": {
        "id": "zjiAUVjgKw23"
      }
    },
    {
      "cell_type": "markdown",
      "source": [
        "##8. (red, баллы: 0.4) Построй график cdf.\n"
      ],
      "metadata": {
        "id": "3T-2MgP3Kst7"
      }
    },
    {
      "cell_type": "markdown",
      "source": [
        "**Решение**"
      ],
      "metadata": {
        "id": "ViGZKLeyKxGU"
      }
    },
    {
      "cell_type": "markdown",
      "source": [
        "\n",
        "##9. (black, баллы: 1) Построй график ppf."
      ],
      "metadata": {
        "id": "Hj0ugg86KtUz"
      }
    },
    {
      "cell_type": "markdown",
      "source": [
        "**Решение**"
      ],
      "metadata": {
        "id": "W-J_9LNszJj8"
      }
    },
    {
      "cell_type": "markdown",
      "source": [
        "# Задача 5. Исследование биномиальной модели при большом $n$\n",
        "\n",
        "\n",
        "\n"
      ],
      "metadata": {
        "id": "Pfxy5W9NzJj8"
      }
    },
    {
      "cell_type": "markdown",
      "source": [
        "Пусть $X$ — число покупок среди $n$ посещений интернет-магазина. Каждое посещение завершается без покупки с вероятностью $1-p$, а ровно одной покупкой с вероятностью $p$. Совершение покупки в одном из посещений не зависит от других посещений.\n",
        "\n"
      ],
      "metadata": {
        "id": "DOmVZ46DKG2q"
      }
    },
    {
      "cell_type": "markdown",
      "source": [
        "##1. (red, баллы: 0.3) Модель распределения числа покупок: $X\\sim Binomial(n=10,p=0.1)$. Построй графики распределения количества покупок  𝑋 , то есть графики PMF.\n",
        "\n"
      ],
      "metadata": {
        "id": "7QBtIL5vKG2r"
      }
    },
    {
      "cell_type": "markdown",
      "source": [
        "**Решение**"
      ],
      "metadata": {
        "id": "5D2-J-x4KG2r"
      }
    },
    {
      "cell_type": "markdown",
      "source": [
        "##2. (red, баллы: 0.3) Модель распределения числа покупок: $X\\sim Binomial(n=100,p=0.1)$. Построй графики распределения количества покупок  𝑋 , то есть графики PMF.\n",
        "\n"
      ],
      "metadata": {
        "id": "4YvlVMWzKG2r"
      }
    },
    {
      "cell_type": "markdown",
      "source": [
        "**Решение**"
      ],
      "metadata": {
        "id": "8jy5Rp13KG2r"
      }
    },
    {
      "cell_type": "markdown",
      "source": [
        "##3. (red, баллы: 0.3) Модель распределения числа покупок: $X\\sim Binomial(n=1000,p=0.1)$. Построй графики распределения количества покупок  𝑋 , то есть графики PMF.\n",
        "\n"
      ],
      "metadata": {
        "id": "mi6me6T-KG2s"
      }
    },
    {
      "cell_type": "markdown",
      "source": [
        "**Решение**"
      ],
      "metadata": {
        "id": "Hw3L9K0nKG2s"
      }
    },
    {
      "cell_type": "markdown",
      "source": [
        "Обозначим выборочную конверсию в покупки $\\hat{p}=\\frac{X}{n}$.\n",
        "\n",
        "##4. (red, баллы: 0.7) Построй на одном графике и сравни распределение конверсии в выборке $\\hat{p}$ для всех трёх ситуаций выше:\n",
        "\n",
        "  - $n=10$, $p=0.1$,\n",
        "\n",
        "  - $n=100$, $p=0.1$,\n",
        "\n",
        "  - $n=1000$, $p=0.1$.\n",
        "\n",
        "Прокомментируй, как меняется поведение $\\hat{p}$ с ростом числа посещений $n$.\n",
        "\n"
      ],
      "metadata": {
        "id": "NCAy_Db5KG2s"
      }
    },
    {
      "cell_type": "markdown",
      "source": [
        "**Решение**"
      ],
      "metadata": {
        "id": "JITEaKnrKG2s"
      }
    },
    {
      "cell_type": "markdown",
      "source": [
        "##5. (black, баллы: 2) Построй на одном графике и сравни распределение конверсии в выборке $\\hat{p}$ для следующих двух ситуаций:\n",
        "\n",
        "  - $n=10$, $p=0.1$,\n",
        "  \n",
        "  - $n=1000$, $p=0.001$.\n",
        "  \n",
        "Прокомментируй, как меняется поведение $\\hat{p}$ с ростом числа посещений $n$."
      ],
      "metadata": {
        "id": "BZQAdoMTKG2s"
      }
    },
    {
      "cell_type": "markdown",
      "source": [
        "**Решение**"
      ],
      "metadata": {
        "id": "l1ku_Dp6KG2t"
      }
    },
    {
      "cell_type": "markdown",
      "source": [
        "# Задача 6. Докажи формулу матожидания и дисперсии биномиального распределения\n",
        "\n"
      ],
      "metadata": {
        "id": "O2Pk3rATzJj9"
      }
    },
    {
      "cell_type": "markdown",
      "source": [
        "Пусть $X$ — число покупок среди $n$ посещений интернет-магазина. Каждое посещение завершается без покупки с вероятностью $1-p$, а ровно одной покупкой с вероятностью $p$. Совершение покупки в одном из посещений не зависит от других посещений.\n",
        "\n",
        "Пусть $I_1$, $I_2$, $I_n$ — случайные-величины, причём $I_k=1$, если во время $k$-го посещения случилась покупка, и $I_k=0$, если в этом посещении покупки не было.\n",
        "\n"
      ],
      "metadata": {
        "id": "rs8PShEaKG2t"
      }
    },
    {
      "cell_type": "markdown",
      "source": [
        "##1. (red, баллы: 0.3) Объясни, почему $X=I_1+I_2+\\dots+I_n$.\n"
      ],
      "metadata": {
        "id": "DPB6vZp4KG2t"
      }
    },
    {
      "cell_type": "markdown",
      "source": [
        "**Решение**"
      ],
      "metadata": {
        "id": "ZIaG1NEQKG2t"
      }
    },
    {
      "cell_type": "markdown",
      "source": [
        "\n",
        "##2. (red, баллы: 0.4) Как называется распределение $I_k$? Построй таблицу распределения $I_k$.\n",
        "\n",
        "  <table>\n",
        "<caption>\n",
        "Распределение $I_k$\n",
        "</caption>\n",
        "  <thead>\n",
        "    <tr>\n",
        "      <th width=1>$a$</th>\n",
        "      <th>$???$</th>\n",
        "      <th>$???$</th>\n",
        "    </tr>\n",
        "  </thead>\n",
        "  <tbody>\n",
        "    <tr>\n",
        "      <td>$P(I_k=a)$</td>\n",
        "      <td>$???$</td>\n",
        "      <td>$???$</td>\n",
        "    </tr>\n",
        "  </tbody>\n",
        "</table>\n",
        "\n",
        "Найди матожидание $E(I_k)$ и дисперсию $V(I_k)$ по таблице распределения.\n",
        "\n"
      ],
      "metadata": {
        "id": "YDOWLDKyKG2u"
      }
    },
    {
      "cell_type": "markdown",
      "source": [
        "**Решение**"
      ],
      "metadata": {
        "id": "j8x9jBZAKG2u"
      }
    },
    {
      "cell_type": "markdown",
      "source": [
        "3. (red, баллы: 0.4) Верно ли, что $E(I_1+\\dots+I_k)=E(I_1)+\\dots+E(I_n)$?\n",
        "\n",
        "  Верно ли, что $V(I_1+\\dots+I_k)=V(I_1)+\\dots+V(I_n)$?"
      ],
      "metadata": {
        "id": "5g3Kuw5hKG2u"
      }
    },
    {
      "cell_type": "markdown",
      "source": [
        "**Решение**"
      ],
      "metadata": {
        "id": "qoqlaVVsKG2u"
      }
    },
    {
      "cell_type": "markdown",
      "source": [
        "##4. (red, баллы: 0.4) Опираясь на предыдущие пункты, выведи формулу для $EX$ и $VX$ через $n$ и $p$.\n"
      ],
      "metadata": {
        "id": "24RMV9uIzJj-"
      }
    },
    {
      "cell_type": "markdown",
      "source": [
        "**Решение**"
      ],
      "metadata": {
        "id": "d9Dtg60AzJj-"
      }
    },
    {
      "cell_type": "markdown",
      "source": [
        "# Задача 7. (black, баллы: 3) Получение новой непрерывной модели из заданной\n"
      ],
      "metadata": {
        "id": "VJocZ8D-zJj-"
      }
    },
    {
      "cell_type": "markdown",
      "source": [
        "Дана непрерывная вероятностная модель для некоего показателя $X$: известная кумулятивная функция распределения (cdf). Получи кумулятивные функции распределения для $Y=X^3$ и $W=2x+3$.\n",
        "\n",
        "Высший класс — написать ответ так, чтобы при любой модификации кода функции cdf_x, решение оставалось верным без модификации твоего кода."
      ],
      "metadata": {
        "id": "TfGlYldyKG2v"
      }
    },
    {
      "cell_type": "code",
      "source": [
        "# P(X <= t)\n",
        "def cdf_x(t):\n",
        "    return np.piecewise(np.float64(t), [      t < 0,     (0 <= t) & (t <=2),       t > 2],\n",
        "                                       [lambda t: 0,  lambda t: 0.25 * t**2, lambda t: 1])"
      ],
      "metadata": {
        "id": "JJkRfIvdKG2v"
      },
      "execution_count": null,
      "outputs": []
    },
    {
      "cell_type": "markdown",
      "source": [
        "**Решение**"
      ],
      "metadata": {
        "id": "mQjq4-HyKG2v"
      }
    },
    {
      "cell_type": "code",
      "source": [
        "# P(Y <= t)\n",
        "def cdf_y(t):\n",
        "    return 0 # замени return какое-то преобразование от cdf_x(какое-то преобразование от t)"
      ],
      "metadata": {
        "id": "vgXiWo2WKG2w"
      },
      "execution_count": null,
      "outputs": []
    },
    {
      "cell_type": "code",
      "source": [
        "# P(W <= t)\n",
        "def cdf_w(t):\n",
        "    return 0 # замени return какое-то преобразование от cdf_x(какое-то преобразование от t)"
      ],
      "metadata": {
        "id": "-AG84DowKG2w"
      },
      "execution_count": null,
      "outputs": []
    }
  ]
}