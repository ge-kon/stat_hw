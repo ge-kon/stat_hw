{
  "nbformat": 4,
  "nbformat_minor": 0,
  "metadata": {
    "colab": {
      "provenance": []
    },
    "kernelspec": {
      "name": "python3",
      "display_name": "Python 3"
    },
    "language_info": {
      "name": "python"
    }
  },
  "cells": [
    {
      "cell_type": "code",
      "source": [
        "#@title Импорт библиотек\n",
        "import scipy.stats as sps\n",
        "import matplotlib.pyplot as plt\n",
        "import pandas as pd\n",
        "import numpy as np"
      ],
      "metadata": {
        "cellView": "form",
        "id": "VO-nUEaESCBo"
      },
      "execution_count": null,
      "outputs": []
    },
    {
      "cell_type": "markdown",
      "source": [
        "# Задача 1. Найди матожидание, дисперсию и распределение для суммы"
      ],
      "metadata": {
        "id": "DiaY2i5vOQA5"
      }
    },
    {
      "cell_type": "markdown",
      "source": [
        "Пусть $X_1,X_2,\\dots,X_n$ распределены независимо и одинаково, модель указана ниже.\n",
        "  <table>\n",
        "<caption>\n",
        "Распределение $X$\n",
        "</caption>\n",
        "  <thead>\n",
        "    <tr>\n",
        "      <th width=1>$x$</th>\n",
        "      <th>$1100$</th>\n",
        "      <th>$-78900$</th>\n",
        "      <th>$-118900$</th>\n",
        "    </tr>\n",
        "  </thead>\n",
        "  <tbody>\n",
        "    <tr>\n",
        "      <td><b>$P(X=x)$</b></td>\n",
        "      <th>$0.999$</th>\n",
        "      <th>$0.0004$</th>\n",
        "      <th>$0.0006$</th>\n",
        "    </tr>\n",
        "  </tbody>\n",
        "</table>\n",
        "\n"
      ],
      "metadata": {
        "id": "Hfc073t38bFj"
      }
    },
    {
      "cell_type": "markdown",
      "source": [
        "##1. (blue, баллы: 0.5) Найди $E\\left(\\sum\\limits_{i=1}^{n} X_i\\right)$.\n",
        "\n"
      ],
      "metadata": {
        "id": "bKwu74Yj8d9D"
      }
    },
    {
      "cell_type": "markdown",
      "source": [
        "##2. (blue, баллы: 0.5) Найди $V\\left(\\sum\\limits_{i=1}^{n} X_i\\right)$."
      ],
      "metadata": {
        "id": "6UtzKnx_8emW"
      }
    },
    {
      "cell_type": "markdown",
      "source": [
        "##3. (blue, баллы: 0.5) Найди $E(\\bar{X})$."
      ],
      "metadata": {
        "id": "DPQ5p4cn8cEj"
      }
    },
    {
      "cell_type": "markdown",
      "source": [
        "##4. (blue, баллы: 0.5) Найди $V(\\bar{X})$."
      ],
      "metadata": {
        "id": "YBOfEsx68c_P"
      }
    },
    {
      "cell_type": "markdown",
      "source": [
        "##5. (blue, баллы: 0.8) Запиши приблизительное распределение $\\bar{X}$ при достаточно большом $n$."
      ],
      "metadata": {
        "id": "oieDxOJC80Ev"
      }
    },
    {
      "cell_type": "markdown",
      "source": [
        "##6. (blue, баллы: 0.8) Запиши приблизительное распределение $\\sum\\limits_{i=1}^{n} X_i$ при достаточно большом $n$."
      ],
      "metadata": {
        "id": "Iup-kXJW9KeT"
      }
    },
    {
      "cell_type": "markdown",
      "source": [
        "##7. (blue, баллы: 0.8) Приблизительно найди $P(\\bar{X} < 960)$ при $n=100\\ 000$."
      ],
      "metadata": {
        "id": "MHn1-AZm9SP6"
      }
    },
    {
      "cell_type": "markdown",
      "source": [
        "**Решение**"
      ],
      "metadata": {
        "id": "owlJz9lrBABp"
      }
    },
    {
      "cell_type": "markdown",
      "source": [
        "# Задача 2. Расчитай прибыль страховой компании, применив ЦПТ\n",
        "\n"
      ],
      "metadata": {
        "id": "b0GYkovmgBBw"
      }
    },
    {
      "cell_type": "markdown",
      "source": [
        "Сначала реши задачу 1.\n",
        "\n",
        "Компания предлагает пешеходам страховой продукт «АнтиДТПин», который действует 1 год. Каждый клиент платит взнос 1100 рублей в начале года. В случае попадания в ДТП клиент получает выплату по страховке: 80 тысяч рублей в случае ДТП с мотоциклом или легковым автомобилем и 120 тысяч рублей в любом ином случае ДТП (с грузовым автомобилем, автобусом или спецтехникой: тракторы, подъёмные краны и прочее).\n",
        "\n",
        "Страховая компания считает, что 99.9% клиентов не попадут в ДТП. Шанс на ДТП с мотоциклом компания оценивает как 1 из 10000, шанс попадания в ДТП с легковым автомобилем компания оценивает как 3 из 10000.\n",
        "\n",
        "У компании $n=100\\ 000$ клиентов."
      ],
      "metadata": {
        "id": "5f1I5bSbgBB6"
      }
    },
    {
      "cell_type": "markdown",
      "source": [
        "##1. (blue, баллы: 0.8) Найди вероятность общего убытка и сравни с вероятностью получить убыток от одного конкретного клиента."
      ],
      "metadata": {
        "id": "zRLfS62qgBB6"
      }
    },
    {
      "cell_type": "markdown",
      "source": [
        "**Решение**"
      ],
      "metadata": {
        "id": "qTYQ_b5VDOzN"
      }
    },
    {
      "cell_type": "markdown",
      "source": [
        "##2. (blue, баллы: 0.8) Найди вероятность того, что фирма в среднем по своим $n=100\\ 000$ клиентам получит меньше 960 рублей прибыли."
      ],
      "metadata": {
        "id": "-JZ9Lr9FDKMc"
      }
    },
    {
      "cell_type": "markdown",
      "source": [
        "**Решение**"
      ],
      "metadata": {
        "id": "QH5RFh4BDPBg"
      }
    },
    {
      "cell_type": "markdown",
      "source": [
        "##3. (blue, баллы: 0.8) Найди вероятность того, что общая прибыль фирмы будет меньше 96 млн. рублей в год."
      ],
      "metadata": {
        "id": "jAoJdFMHDMpE"
      }
    },
    {
      "cell_type": "markdown",
      "source": [
        "**Решение**"
      ],
      "metadata": {
        "id": "trXO73p4DPMx"
      }
    },
    {
      "cell_type": "markdown",
      "source": [
        "##4. (blue, баллы: 0.8) На какую прибыль фирма может рассчитывать с вероятностью 99.99999% ?"
      ],
      "metadata": {
        "id": "6x2X6WkUDNs8"
      }
    },
    {
      "cell_type": "markdown",
      "source": [
        "**Решение**"
      ],
      "metadata": {
        "id": "l6jXLno0gBB6"
      }
    },
    {
      "cell_type": "markdown",
      "source": [
        "# Задача 3. Определи минимальный размер выборки в приближении среднего\n",
        "\n",
        "\n",
        "\n"
      ],
      "metadata": {
        "id": "653GaH2YgDIQ"
      }
    },
    {
      "cell_type": "markdown",
      "source": [
        "Фирма планирует запустить новый продукт. Прибыль по этому продукту с клиента обозначим $X$. Клиентов ещё нет. Поэтому $X$ случайный и зависит от клиента. Распределение прибыли неизвестно.\n",
        "\n",
        "Фирме необходимо узнать что-нибудь о средней прибыли $EX$ среди всех возможных клиентов до массового привлечения клиентов.\n",
        "\n",
        "Рассматривается возможность привлечь случайную выборку из $n$ клиентов, получив данные о прибыли по ним: $X_1,X_2,\\dots,X_n$.\n",
        "\n",
        "Для упрощения можно считать, что:\n",
        " - выборка достаточно велика для применения ЦПТ,\n",
        " - выборка намного меньше генеральной совокупности всех возможных клиентов, поэтому нет разницы, с возвращением она или без, а все наблюдения независимы и одинаково распределены,\n",
        " - стандартное отклонение $\\sqrt{VX}$ не превосходит 1000 рублей.\n",
        "\n"
      ],
      "metadata": {
        "id": "ubT6vD7zgDIf"
      }
    },
    {
      "cell_type": "markdown",
      "source": [
        "##1. (blue, баллы: 0.8) С какой вероятностью средняя прибыль в выборке $\\bar{X}$ приближает среднюю прибыль среди всех возможных клиентов $EX$ с отличием не больше чем на 10 рублей, если $n=10000$. Иначе говоря, найди $P(|\\bar{X} - EX| \\leqslant 10)$.\n",
        "\n"
      ],
      "metadata": {
        "id": "36EMCVH6NL7S"
      }
    },
    {
      "cell_type": "markdown",
      "source": [
        "**Решение**"
      ],
      "metadata": {
        "id": "LyX8nKXxNRa3"
      }
    },
    {
      "cell_type": "markdown",
      "source": [
        "##2. (blue, баллы: 0.8) С какой вероятностью $\\bar{X}$ отличается $EX$ меньше, чем 100 рублей, если $n=10000$.\n"
      ],
      "metadata": {
        "id": "QV1lQ9ArNMnQ"
      }
    },
    {
      "cell_type": "markdown",
      "source": [
        "**Решение**"
      ],
      "metadata": {
        "id": "wWoICXUYNRl8"
      }
    },
    {
      "cell_type": "markdown",
      "source": [
        "##3. (red, баллы: 2.5) Найди наименьший размер выборки $n$, позволяющий приблизить $EX$ с помощью $\\bar{X}$ с точностью выше, чем $\\pm 100$ рублей, с вероятностью 99%.\n",
        "\n"
      ],
      "metadata": {
        "id": "gYXUeTnXNNT0"
      }
    },
    {
      "cell_type": "markdown",
      "source": [
        "**Решение**"
      ],
      "metadata": {
        "id": "phZz7-fONR1_"
      }
    },
    {
      "cell_type": "markdown",
      "source": [
        "##4. (red, баллы: 2.5) Найди наименьшее $n$, чтобы $\\bar{X}$ приближал $EX$ с точностью $\\pm 50$ рублей с вероятностью 99%.\n",
        "\n"
      ],
      "metadata": {
        "id": "nP4Xb_UsNOpT"
      }
    },
    {
      "cell_type": "markdown",
      "source": [
        "**Решение**"
      ],
      "metadata": {
        "id": "QnfWGdteNSLZ"
      }
    },
    {
      "cell_type": "markdown",
      "source": [
        "##5. (black, баллы: 3) Какие изменения каких факторов задания способствовали бы уменьшению наименьшего подходящего размера выборки $n$?"
      ],
      "metadata": {
        "id": "ueG_MGomNPeR"
      }
    },
    {
      "cell_type": "markdown",
      "source": [
        "**Решение**"
      ],
      "metadata": {
        "id": "7I2vFxOaNSWf"
      }
    },
    {
      "cell_type": "markdown",
      "source": [
        "# Задача 4. Определи минимальный размер выборки при нахождении конверсии\n",
        "\n"
      ],
      "metadata": {
        "id": "7FS4bdGkgHaS"
      }
    },
    {
      "cell_type": "markdown",
      "source": [
        "Фирма планирует запустить новую интернет-рекламу. Многое будет зависеть от конверсии рекламных показов в переходы по рекламе.\n"
      ],
      "metadata": {
        "id": "K9MvlFjKgHai"
      }
    },
    {
      "cell_type": "markdown",
      "source": [
        "##1. (blue, баллы: 0.8) Если известна конверсия в генеральной совокупности $p=0.007$, найди вероятность того, что в выборке из $n=10\\ 000\\ 000$ показов конверсия окажется от $0.006$ до $0.008$.\n",
        "\n"
      ],
      "metadata": {
        "id": "mugJ9MzlM5z2"
      }
    },
    {
      "cell_type": "markdown",
      "source": [
        "**Решение**"
      ],
      "metadata": {
        "id": "tAe-0dnJNJUX"
      }
    },
    {
      "cell_type": "markdown",
      "source": [
        "2. (black, баллы: 4) С целью определить неизвестную конверсию в генеральной совокупности $p$ фирма планирует собрать случайную выборку, сделав $n$ показов. Выборочная конверсия должна приближать $p$ с точностью не хуже $\\pm 0.003$ с вероятностью не меньше 99%. Найди минимальное количество наблюдений, необходимое для этого.\n",
        "\n",
        "  - Считай $n$ достаточно большим для применения ЦПТ.\n",
        "  - Считай, что конверсия $p$ не больше $0.02$.\n",
        "\n"
      ],
      "metadata": {
        "id": "WEkZhq1MM6d-"
      }
    },
    {
      "cell_type": "markdown",
      "source": [
        "**Решение**"
      ],
      "metadata": {
        "id": "jiHdrth3NJeJ"
      }
    },
    {
      "cell_type": "markdown",
      "source": [
        "##3. (black, баллы: 3) Используй найденное в предыдущем пункте $n$ и биномиальную модель без ЦПТ и покажи на графике настоящую точность приближения, то есть зависимость $|\\hat{p}-p|$ от $p$."
      ],
      "metadata": {
        "id": "XzHEq7uJM7Q_"
      }
    },
    {
      "cell_type": "markdown",
      "source": [
        "**Решение**"
      ],
      "metadata": {
        "id": "lg-fBr0JgHai"
      }
    },
    {
      "cell_type": "markdown",
      "source": [
        "# Кейс «Проходной порог»\n"
      ],
      "metadata": {
        "id": "O3u-CBDZgH_8"
      }
    },
    {
      "cell_type": "markdown",
      "source": [
        "##(blue)(red) На соответствующем уровне реши кейс [«Проходной порог»](https://raw.github.com/zalig/cu-datasets/main/case_7_passing_score.pdf).\n",
        "\n",
        "Кейс не считается частью домашнего задания и проверяется отдельно.\n"
      ],
      "metadata": {
        "id": "gboUVEergH_8"
      }
    },
    {
      "cell_type": "markdown",
      "source": [
        "#Кейсы  «Проходной порог», «Доходность» и «Моделирование»"
      ],
      "metadata": {
        "id": "6kXpkgN_FooK"
      }
    },
    {
      "cell_type": "markdown",
      "source": [
        "\n",
        "##(black) Реши на чёрном уровне кейс [«Проходной порог»](https://raw.github.com/zalig/cu-datasets/main/case_7_passing_score.pdf) и ещё один из двух кейсов:\n",
        "\n",
        "  - [«Доходность»](https://raw.github.com/zalig/cu-datasets/main/case_8_return.pdf).\n",
        "\n",
        "  - [«Моделирование»](https://raw.github.com/zalig/cu-datasets/main/case_9_modeling.pdf).\n",
        "\n",
        "  Кейсы не считаются частью домашнего задания и проверяется отдельно."
      ],
      "metadata": {
        "id": "jqetORpPF4Pe"
      }
    }
  ]
}